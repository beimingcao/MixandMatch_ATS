{
 "cells": [
  {
   "cell_type": "code",
   "execution_count": 3,
   "metadata": {},
   "outputs": [],
   "source": [
    "import os\n",
    "import glob\n",
    "import numpy as np\n",
    "from scipy import ndimage\n",
    "from IPython.display import Audio\n",
    "from scipy.io import wavfile\n",
    "import matplotlib.pyplot as plt\n",
    "import librosa"
   ]
  },
  {
   "cell_type": "code",
   "execution_count": 16,
   "metadata": {},
   "outputs": [],
   "source": [
    "Data_folder = '/home/beiming/Projects/SI_ATS/Database/RAW_DATA/EMA_MAE'\n",
    "group_name = 'ENF'\n",
    "speaker_id = '07'\n",
    "\n",
    "speaker_folder = speaker_id + group_name\n",
    "\n",
    "data_folder = os.path.join(Data_folder, group_name, speaker_folder)\n",
    "WAV_path = os.path.join(data_folder, 'EMA Data')\n",
    "EMA_path = os.path.join(Data_folder, 'Extracted_EMA', group_name, speaker_folder)"
   ]
  },
  {
   "cell_type": "code",
   "execution_count": 19,
   "metadata": {},
   "outputs": [],
   "source": [
    "WAV_path_list = os.path.join(WAV_path, '*' + '.wav')\n",
    "WAV_path_list = glob.glob(WAV_path_list)\n",
    "WAV_path_list.sort()\n",
    "\n",
    "EMA_path_list = os.path.join(EMA_path, '*' + '.MV')\n",
    "EMA_path_list = glob.glob(EMA_path_list)\n",
    "EMA_path_list.sort()"
   ]
  },
  {
   "cell_type": "code",
   "execution_count": 40,
   "metadata": {},
   "outputs": [],
   "source": [
    "train_index = [0,1,2,3,4,5,6,7,8,9]\n",
    "valid_index = [10]\n",
    "test_index = [11]\n",
    "\n",
    "mgc_dim = 60\n",
    "lf0_dim = 1\n",
    "vuv_dim = 1\n",
    "bap_dim = 1\n",
    "\n",
    "frame_period = 5\n",
    "hop_length = 80\n",
    "fftlen = 1024\n",
    "alpha = 0.41\n",
    "\n",
    "order = 59\n",
    "frame_period = 5\n",
    "windows = [\n",
    "    (0, 0, np.array([1.0])),\n",
    "    (1, 1, np.array([-0.5, 0.0, 0.5])),\n",
    "    (1, 1, np.array([1.0, -2.0, 1.0])),\n",
    "]\n"
   ]
  },
  {
   "cell_type": "code",
   "execution_count": 35,
   "metadata": {},
   "outputs": [],
   "source": [
    "import pyworld\n",
    "import pysptk\n",
    "import nnmnkwii\n",
    "\n",
    "import numpy as np\n",
    "from nnmnkwii.preprocessing.f0 import interp1d\n",
    "from nnmnkwii.util import apply_delta_windows\n",
    "\n",
    "def collect_features(wav_path, frame_period, order):\n",
    "  \n",
    "    x, fs = librosa.load(wav_path)\n",
    "    x = x.astype(np.float64)\n",
    "    f0, timeaxis = pyworld.dio(x, fs, frame_period=frame_period)\n",
    "    f0 = pyworld.stonemask(x, f0, timeaxis, fs)\n",
    "    spectrogram = pyworld.cheaptrick(x, f0, timeaxis, fs)\n",
    "    aperiodicity = pyworld.d4c(x, f0, timeaxis, fs)\n",
    "\n",
    "    bap = pyworld.code_aperiodicity(aperiodicity, fs)\n",
    "    mgc = pysptk.sp2mc(spectrogram, order=order,\n",
    "                       alpha=pysptk.util.mcepalpha(fs))\n",
    "    f0 = f0[:, None]\n",
    "    lf0 = f0.copy()\n",
    "    nonzero_indices = np.nonzero(f0)\n",
    "    lf0[nonzero_indices] = np.log(f0[nonzero_indices])\n",
    "    vuv = (lf0 != 0).astype(np.float32)\n",
    "    lf0 = interp1d(lf0, kind=\"slinear\")\n",
    "\n",
    "    mgc_delta = apply_delta_windows(mgc, windows)\n",
    "    lf0_delta = apply_delta_windows(lf0, windows)\n",
    "    bap_delta = apply_delta_windows(bap, windows)\n",
    "    \n",
    "    features = np.hstack((mgc, lf0, vuv, bap))\n",
    "\n",
    "    delta_features = np.hstack((mgc_delta, lf0_delta, vuv, bap_delta))\n",
    "    \n",
    "    return features, delta_features"
   ]
  },
  {
   "cell_type": "code",
   "execution_count": 36,
   "metadata": {},
   "outputs": [
    {
     "name": "stderr",
     "output_type": "stream",
     "text": [
      "/home/beiming/.local/lib/python3.6/site-packages/scipy/ndimage/interpolation.py:611: UserWarning: From scipy 0.13.0, the output shape of zoom() is calculated with round() instead of int() - for these inputs the size of the returned array has changed.\n",
      "  \"the returned array has changed.\", UserWarning)\n",
      "/home/beiming/.local/lib/python3.6/site-packages/scipy/ndimage/interpolation.py:611: UserWarning: From scipy 0.13.0, the output shape of zoom() is calculated with round() instead of int() - for these inputs the size of the returned array has changed.\n",
      "  \"the returned array has changed.\", UserWarning)\n",
      "/home/beiming/.local/lib/python3.6/site-packages/scipy/ndimage/interpolation.py:611: UserWarning: From scipy 0.13.0, the output shape of zoom() is calculated with round() instead of int() - for these inputs the size of the returned array has changed.\n",
      "  \"the returned array has changed.\", UserWarning)\n"
     ]
    }
   ],
   "source": [
    "Train_MV = {}\n",
    "Train_WAV = {}\n",
    "\n",
    "index = 0\n",
    "\n",
    "for i in train_index:\n",
    "  \n",
    "  MV = np.loadtxt(EMA_path_list[i])\n",
    "  \n",
    "  WAV, WAV_delta = collect_features(WAV_path_list[i],  frame_period, order)\n",
    "\n",
    "  scale_ratio = WAV.shape[0] / MV.shape[0]\n",
    "\n",
    "  MV_align = np.empty([WAV.shape[0], MV.shape[1]])\n",
    "\n",
    "  for j in range(MV.shape[1]):\n",
    "\n",
    "    MV_align[:,j] = ndimage.zoom(MV[:,j], scale_ratio)\n",
    "    \n",
    "  MV_delta = apply_delta_windows(MV_align, windows)\n",
    "  \n",
    "  \n",
    "  Train_MV[index] = MV_delta\n",
    "  Train_WAV[index] = WAV_delta\n",
    "  \n",
    "  index = index + 1  "
   ]
  },
  {
   "cell_type": "code",
   "execution_count": 37,
   "metadata": {},
   "outputs": [
    {
     "name": "stdout",
     "output_type": "stream",
     "text": [
      "(7762, 63)\n"
     ]
    }
   ],
   "source": [
    "print(Train_MV[0].shape)"
   ]
  },
  {
   "cell_type": "code",
   "execution_count": 38,
   "metadata": {},
   "outputs": [
    {
     "name": "stdout",
     "output_type": "stream",
     "text": [
      "(7762, 190)\n"
     ]
    }
   ],
   "source": [
    "print(Train_WAV[0].shape)"
   ]
  },
  {
   "cell_type": "code",
   "execution_count": 42,
   "metadata": {},
   "outputs": [
    {
     "name": "stdout",
     "output_type": "stream",
     "text": [
      "(12481, 64)\n",
      "(12481, 190)\n"
     ]
    },
    {
     "name": "stderr",
     "output_type": "stream",
     "text": [
      "/home/beiming/.local/lib/python3.6/site-packages/scipy/ndimage/interpolation.py:611: UserWarning: From scipy 0.13.0, the output shape of zoom() is calculated with round() instead of int() - for these inputs the size of the returned array has changed.\n",
      "  \"the returned array has changed.\", UserWarning)\n"
     ]
    }
   ],
   "source": [
    "Valid_MV = {}\n",
    "Valid_WAV = {}\n",
    "\n",
    "index = 0\n",
    "\n",
    "for i in valid_index:\n",
    "  \n",
    "  MV = np.loadtxt(EMA_path_list[i])\n",
    "  \n",
    "  WAV, WAV_delta = collect_features(WAV_path_list[i],  frame_period, order)\n",
    "    \n",
    "  print(WAV.shape)\n",
    "  print(WAV_delta.shape)\n",
    "\n",
    "  scale_ratio = WAV.shape[0] / MV.shape[0]\n",
    "\n",
    "  MV_align = np.empty([WAV.shape[0], MV.shape[1]])\n",
    "\n",
    "  for j in range(MV.shape[1]):\n",
    "\n",
    "    MV_align[:,j] = ndimage.zoom(MV[:,j], scale_ratio)\n",
    "    \n",
    "  MV_delta = apply_delta_windows(MV_align, windows)\n",
    "  \n",
    "  \n",
    "  Valid_MV[index] = MV_delta\n",
    "  Valid_WAV[index] = WAV_delta\n",
    "  \n",
    "  index = index + 1  "
   ]
  },
  {
   "cell_type": "code",
   "execution_count": 43,
   "metadata": {},
   "outputs": [],
   "source": [
    "def collect_features(wav_path, frame_period, order):\n",
    "  \n",
    "    x, fs = librosa.load(wav_path)\n",
    "    x = x.astype(np.float64)\n",
    "    f0, timeaxis = pyworld.dio(x, fs, frame_period=frame_period)\n",
    "    f0 = pyworld.stonemask(x, f0, timeaxis, fs)\n",
    "    spectrogram = pyworld.cheaptrick(x, f0, timeaxis, fs)\n",
    "    aperiodicity = pyworld.d4c(x, f0, timeaxis, fs)\n",
    "\n",
    "    bap = pyworld.code_aperiodicity(aperiodicity, fs)\n",
    "    mgc = pysptk.sp2mc(spectrogram, order=order,\n",
    "                       alpha=pysptk.util.mcepalpha(fs))\n",
    "    f0 = f0[:, None]\n",
    "    lf0 = f0.copy()\n",
    "    nonzero_indices = np.nonzero(f0)\n",
    "    lf0[nonzero_indices] = np.log(f0[nonzero_indices])\n",
    "    vuv = (lf0 != 0).astype(np.float32)\n",
    "    lf0 = interp1d(lf0, kind=\"slinear\")\n",
    "\n",
    "    mgc_delta = apply_delta_windows(mgc, windows)\n",
    "    lf0_delta = apply_delta_windows(lf0, windows)\n",
    "    bap_delta = apply_delta_windows(bap, windows)\n",
    "    \n",
    "    features = np.hstack((mgc, lf0, vuv, bap))\n",
    "\n",
    "    delta_features = np.hstack((mgc_delta, lf0_delta, vuv, bap_delta))\n",
    "    \n",
    "    return mgc, bap, lf0, vuv"
   ]
  },
  {
   "cell_type": "code",
   "execution_count": 44,
   "metadata": {},
   "outputs": [],
   "source": [
    "mgc, bap, lf0, vuv = collect_features(WAV_path_list[i],  frame_period, order)"
   ]
  },
  {
   "cell_type": "code",
   "execution_count": 45,
   "metadata": {},
   "outputs": [
    {
     "name": "stdout",
     "output_type": "stream",
     "text": [
      "(12481, 60)\n",
      "(12481, 2)\n",
      "(12481, 1)\n",
      "(12481, 1)\n"
     ]
    }
   ],
   "source": [
    "print(mgc.shape)\n",
    "print(bap.shape)\n",
    "print(lf0.shape)\n",
    "print(vuv.shape)"
   ]
  },
  {
   "cell_type": "code",
   "execution_count": null,
   "metadata": {},
   "outputs": [],
   "source": []
  }
 ],
 "metadata": {
  "kernelspec": {
   "display_name": "Python 3",
   "language": "python",
   "name": "python3"
  },
  "language_info": {
   "codemirror_mode": {
    "name": "ipython",
    "version": 3
   },
   "file_extension": ".py",
   "mimetype": "text/x-python",
   "name": "python",
   "nbconvert_exporter": "python",
   "pygments_lexer": "ipython3",
   "version": "3.6.8"
  }
 },
 "nbformat": 4,
 "nbformat_minor": 2
}
