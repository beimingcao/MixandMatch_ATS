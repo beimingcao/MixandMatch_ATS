{
 "cells": [
  {
   "cell_type": "code",
   "execution_count": 1,
   "metadata": {},
   "outputs": [],
   "source": [
    "import os\n",
    "import glob\n",
    "import numpy as np\n",
    "from scipy import ndimage\n",
    "from IPython.display import Audio\n",
    "from scipy.io import wavfile\n",
    "import matplotlib.pyplot as plt\n",
    "import librosa\n",
    "from nnmnkwii.preprocessing.f0 import interp1d\n",
    "from nnmnkwii.util import apply_delta_windows\n",
    "import pandas as pd\n",
    "\n",
    "import pyworld\n",
    "import pysptk\n",
    "import nnmnkwii\n",
    "import matplotlib.pyplot as plt"
   ]
  },
  {
   "cell_type": "code",
   "execution_count": 2,
   "metadata": {},
   "outputs": [],
   "source": [
    "def collect_features(wav_path, fs, frame_period, order):\n",
    "  \n",
    "    x, sr = librosa.load(wav_path, sr = fs)\n",
    "    x = x.astype(np.float64)\n",
    "    f0, timeaxis = pyworld.dio(x, fs, frame_period=frame_period)\n",
    "    f0 = pyworld.stonemask(x, f0, timeaxis, fs)\n",
    "    spectrogram = pyworld.cheaptrick(x, f0, timeaxis, fs)\n",
    "\n",
    "    mgc = pysptk.sp2mc(spectrogram, order=order,\n",
    "                       alpha=pysptk.util.mcepalpha(fs))\n",
    "\n",
    "\n",
    "    mgc_delta = apply_delta_windows(mgc, windows)\n",
    "    \n",
    "    return mgc, mgc_delta\n",
    "\n",
    "\n",
    "def plot_history(history):\n",
    "    plt.figure()\n",
    "    plt.xlabel('Epoch')\n",
    "    plt.ylabel('Mean Abs Error')\n",
    "    plt.plot(history.epoch, np.array(history.history['mean_absolute_error']), label = 'Train Loss')\n",
    "    plt.plot(history.epoch, np.array(history.history['val_mean_absolute_error']), label = 'Valid Loss')\n",
    "    plt.legend()"
   ]
  },
  {
   "cell_type": "code",
   "execution_count": 3,
   "metadata": {},
   "outputs": [
    {
     "name": "stdout",
     "output_type": "stream",
     "text": [
      "['DN004', 'DN011', 'DN006', 'DN008', 'DN009', 'DN005', 'DN007', 'DN010']\n"
     ]
    }
   ],
   "source": [
    "data_folder = '/home/beiming/Desktop/Parsed_data'\n",
    "group_name = 'SDTL' # ENF or ENM or SDTL\n",
    "group_folder = os.path.join(data_folder, group_name)\n",
    "subject_list = os.listdir(group_folder) \n",
    "print(subject_list)"
   ]
  },
  {
   "cell_type": "code",
   "execution_count": 4,
   "metadata": {},
   "outputs": [
    {
     "name": "stdout",
     "output_type": "stream",
     "text": [
      "264\n"
     ]
    }
   ],
   "source": [
    "sub_name = 'DN008'\n",
    "\n",
    "data_sub_folder = os.path.join(group_folder, sub_name)\n",
    "\n",
    "WAV_path_list = os.path.join(data_sub_folder, '*' + '.wav')\n",
    "WAV_path_list = glob.glob(WAV_path_list)\n",
    "WAV_path_list.sort()\n",
    "\n",
    "EMA_path_list = os.path.join(data_sub_folder, '*' + '.MV8')\n",
    "EMA_path_list = glob.glob(EMA_path_list)\n",
    "EMA_path_list.sort()\n",
    "\n",
    "print(len(EMA_path_list))"
   ]
  },
  {
   "cell_type": "code",
   "execution_count": 5,
   "metadata": {},
   "outputs": [
    {
     "name": "stdout",
     "output_type": "stream",
     "text": [
      "244\n",
      "10\n",
      "10\n"
     ]
    }
   ],
   "source": [
    "mgc_dim = 40\n",
    "lf0_dim = 1\n",
    "vuv_dim = 1\n",
    "bap_dim = 1\n",
    "\n",
    "fs = 16000\n",
    "\n",
    "frame_period = 5\n",
    "hop_length = 80\n",
    "fftlen = 1024\n",
    "alpha = 0.41\n",
    "\n",
    "order = 39\n",
    "frame_period = 5\n",
    "windows = [\n",
    "    (0, 0, np.array([1.0])),\n",
    "    (1, 1, np.array([-0.5, 0.0, 0.5])),\n",
    "    (1, 1, np.array([1.0, -2.0, 1.0])),\n",
    "]\n",
    "\n",
    "file_num = len(WAV_path_list)\n",
    "\n",
    "\n",
    "\n",
    "train_index = [i for j in (range(0, 122), range(132, 254)) for i in j]\n",
    "valid_index = [i for j in (range(122, 127), range(254, 259)) for i in j]\n",
    "test_index = [i for j in (range(127, 132), range(259, 264)) for i in j]\n",
    "\n",
    "print(len(train_index))\n",
    "print(len(valid_index))\n",
    "print(len(test_index))"
   ]
  },
  {
   "cell_type": "code",
   "execution_count": 6,
   "metadata": {},
   "outputs": [
    {
     "name": "stderr",
     "output_type": "stream",
     "text": [
      "/home/beiming/.local/lib/python3.6/site-packages/scipy/ndimage/interpolation.py:611: UserWarning: From scipy 0.13.0, the output shape of zoom() is calculated with round() instead of int() - for these inputs the size of the returned array has changed.\n",
      "  \"the returned array has changed.\", UserWarning)\n"
     ]
    }
   ],
   "source": [
    "Valid_MV = {}\n",
    "Valid_WAV = {}\n",
    "\n",
    "index = 0\n",
    "\n",
    "for i in valid_index:\n",
    "  \n",
    "  MV = np.genfromtxt(EMA_path_list[i], skip_header=1, skip_footer=1)\n",
    "  \n",
    "  WAV, WAV_delta = collect_features(WAV_path_list[i], fs,  frame_period, order)\n",
    "\n",
    "  scale_ratio = WAV.shape[0] / MV.shape[0]\n",
    "\n",
    "\n",
    "  MV_align = np.empty([WAV.shape[0], MV.shape[1]])\n",
    "\n",
    "  for j in range(MV.shape[1]):\n",
    "\n",
    "    MV_align[:,j] = ndimage.zoom(MV[:,j], scale_ratio)\n",
    "    \n",
    "  MV_delta = apply_delta_windows(MV_align, windows)\n",
    "  \n",
    "  \n",
    "  Valid_MV[index] = MV_delta\n",
    "  Valid_WAV[index] = WAV_delta\n",
    "  \n",
    "  index = index + 1  "
   ]
  },
  {
   "cell_type": "code",
   "execution_count": 7,
   "metadata": {},
   "outputs": [],
   "source": [
    "Test_MV = {}\n",
    "Test_WAV = {}\n",
    "\n",
    "index = 0\n",
    "\n",
    "for i in test_index:\n",
    "  \n",
    "  MV = np.genfromtxt(EMA_path_list[i], skip_header=1, skip_footer=1)\n",
    "  \n",
    "  WAV, WAV_delta = collect_features(WAV_path_list[i], fs,  frame_period, order)\n",
    "\n",
    "  scale_ratio = WAV.shape[0] / MV.shape[0]\n",
    "\n",
    "\n",
    "  MV_align = np.empty([WAV.shape[0], MV.shape[1]])\n",
    "\n",
    "  for j in range(MV.shape[1]):\n",
    "\n",
    "    MV_align[:,j] = ndimage.zoom(MV[:,j], scale_ratio)\n",
    "    \n",
    "  MV_delta = apply_delta_windows(MV_align, windows)\n",
    "  \n",
    "  \n",
    "  Test_MV[index] = MV_delta\n",
    "  Test_WAV[index] = WAV_delta\n",
    "  \n",
    "  index = index + 1 "
   ]
  },
  {
   "cell_type": "code",
   "execution_count": 8,
   "metadata": {},
   "outputs": [],
   "source": [
    "Train_MV = {}\n",
    "Train_WAV = {}\n",
    "\n",
    "index = 0\n",
    "\n",
    "for i in train_index:\n",
    "  \n",
    "  MV = np.genfromtxt(EMA_path_list[i], skip_header=1, skip_footer=1)\n",
    "  \n",
    "  WAV, WAV_delta = collect_features(WAV_path_list[i], fs,  frame_period, order)\n",
    "\n",
    "  scale_ratio = WAV.shape[0] / MV.shape[0]\n",
    "\n",
    "\n",
    "  MV_align = np.empty([WAV.shape[0], MV.shape[1]])\n",
    "\n",
    "  for j in range(MV.shape[1]):\n",
    "\n",
    "    MV_align[:,j] = ndimage.zoom(MV[:,j], scale_ratio)\n",
    "    \n",
    "  MV_delta = apply_delta_windows(MV_align, windows)\n",
    "  \n",
    "  \n",
    "  Train_MV[index] = MV_delta\n",
    "  Train_WAV[index] = WAV_delta\n",
    "  \n",
    "  index = index + 1 "
   ]
  },
  {
   "cell_type": "code",
   "execution_count": 9,
   "metadata": {},
   "outputs": [],
   "source": [
    "Train_MV_block = np.concatenate([Train_MV[x] for x in Train_MV], 0).astype(np.float32)\n",
    "Train_WAV_block = np.concatenate([Train_WAV[x] for x in Train_WAV], 0)\n",
    "\n",
    "Valid_MV_block = np.concatenate([Valid_MV[x] for x in Valid_MV], 0).astype(np.float32)\n",
    "Valid_WAV_block = np.concatenate([Valid_WAV[x] for x in Valid_WAV], 0)\n",
    "\n",
    "Test_MV_block = np.concatenate([Test_MV[x] for x in Test_MV], 0).astype(np.float32)\n",
    "Test_WAV_block = np.concatenate([Test_WAV[x] for x in Test_WAV], 0)"
   ]
  },
  {
   "cell_type": "code",
   "execution_count": 10,
   "metadata": {},
   "outputs": [
    {
     "name": "stdout",
     "output_type": "stream",
     "text": [
      "(105506, 24)\n",
      "(3545, 24)\n",
      "(3847, 24)\n"
     ]
    }
   ],
   "source": [
    "print(Train_MV_block.shape)\n",
    "print(Valid_MV_block.shape)\n",
    "print(Test_MV_block.shape)"
   ]
  },
  {
   "cell_type": "code",
   "execution_count": 11,
   "metadata": {},
   "outputs": [
    {
     "name": "stderr",
     "output_type": "stream",
     "text": [
      "/usr/local/lib/python3.6/dist-packages/tensorflow/python/framework/dtypes.py:526: FutureWarning: Passing (type, 1) or '1type' as a synonym of type is deprecated; in a future version of numpy, it will be understood as (type, (1,)) / '(1,)type'.\n",
      "  _np_qint8 = np.dtype([(\"qint8\", np.int8, 1)])\n",
      "/usr/local/lib/python3.6/dist-packages/tensorflow/python/framework/dtypes.py:527: FutureWarning: Passing (type, 1) or '1type' as a synonym of type is deprecated; in a future version of numpy, it will be understood as (type, (1,)) / '(1,)type'.\n",
      "  _np_quint8 = np.dtype([(\"quint8\", np.uint8, 1)])\n",
      "/usr/local/lib/python3.6/dist-packages/tensorflow/python/framework/dtypes.py:528: FutureWarning: Passing (type, 1) or '1type' as a synonym of type is deprecated; in a future version of numpy, it will be understood as (type, (1,)) / '(1,)type'.\n",
      "  _np_qint16 = np.dtype([(\"qint16\", np.int16, 1)])\n",
      "/usr/local/lib/python3.6/dist-packages/tensorflow/python/framework/dtypes.py:529: FutureWarning: Passing (type, 1) or '1type' as a synonym of type is deprecated; in a future version of numpy, it will be understood as (type, (1,)) / '(1,)type'.\n",
      "  _np_quint16 = np.dtype([(\"quint16\", np.uint16, 1)])\n",
      "/usr/local/lib/python3.6/dist-packages/tensorflow/python/framework/dtypes.py:530: FutureWarning: Passing (type, 1) or '1type' as a synonym of type is deprecated; in a future version of numpy, it will be understood as (type, (1,)) / '(1,)type'.\n",
      "  _np_qint32 = np.dtype([(\"qint32\", np.int32, 1)])\n",
      "/usr/local/lib/python3.6/dist-packages/tensorflow/python/framework/dtypes.py:535: FutureWarning: Passing (type, 1) or '1type' as a synonym of type is deprecated; in a future version of numpy, it will be understood as (type, (1,)) / '(1,)type'.\n",
      "  np_resource = np.dtype([(\"resource\", np.ubyte, 1)])\n"
     ]
    },
    {
     "name": "stdout",
     "output_type": "stream",
     "text": [
      "Found GPU at: /device:GPU:0\n"
     ]
    }
   ],
   "source": [
    "import tensorflow as tf\n",
    "from tensorflow import keras\n",
    "from tensorflow.keras import layers\n",
    "\n",
    "device_name = tf.test.gpu_device_name()\n",
    "if device_name != '/device:GPU:0':\n",
    "  raise SystemError('GPU device not found')\n",
    "print('Found GPU at: {}'.format(device_name))"
   ]
  },
  {
   "cell_type": "code",
   "execution_count": 12,
   "metadata": {},
   "outputs": [
    {
     "name": "stdout",
     "output_type": "stream",
     "text": [
      "WARNING:tensorflow:From /usr/local/lib/python3.6/dist-packages/tensorflow/python/ops/resource_variable_ops.py:435: colocate_with (from tensorflow.python.framework.ops) is deprecated and will be removed in a future version.\n",
      "Instructions for updating:\n",
      "Colocations handled automatically by placer.\n",
      "WARNING:tensorflow:From /usr/local/lib/python3.6/dist-packages/tensorflow/python/keras/utils/losses_utils.py:170: to_float (from tensorflow.python.ops.math_ops) is deprecated and will be removed in a future version.\n",
      "Instructions for updating:\n",
      "Use tf.cast instead.\n",
      "_________________________________________________________________\n",
      "Layer (type)                 Output Shape              Param #   \n",
      "=================================================================\n",
      "dense (Dense)                (None, 512)               12800     \n",
      "_________________________________________________________________\n",
      "dense_1 (Dense)              (None, 512)               262656    \n",
      "_________________________________________________________________\n",
      "dense_2 (Dense)              (None, 512)               262656    \n",
      "_________________________________________________________________\n",
      "dense_3 (Dense)              (None, 512)               262656    \n",
      "_________________________________________________________________\n",
      "dense_4 (Dense)              (None, 512)               262656    \n",
      "_________________________________________________________________\n",
      "dense_5 (Dense)              (None, 120)               61560     \n",
      "=================================================================\n",
      "Total params: 1,124,984\n",
      "Trainable params: 1,124,984\n",
      "Non-trainable params: 0\n",
      "_________________________________________________________________\n"
     ]
    }
   ],
   "source": [
    "def build_model():\n",
    "    \n",
    "    model = keras.Sequential([\n",
    "        layers.Dense(512, activation = tf.nn.relu, input_shape = (Train_MV_block.shape[1],)),\n",
    "        layers.Dense(512, activation = tf.nn.relu),\n",
    "        layers.Dense(512, activation = tf.nn.relu),\n",
    "        layers.Dense(512, activation = tf.nn.relu),\n",
    "        layers.Dense(512, activation = tf.nn.relu),\n",
    "        layers.Dense(Train_WAV_block.shape[1])\n",
    "    ])\n",
    "    \n",
    "    optimizer = tf.keras.optimizers.SGD(0.003,momentum=0.9)\n",
    "    model.compile(loss = 'mse', optimizer = optimizer, metrics = ['mae', 'mse'])\n",
    "    \n",
    "    return model\n",
    "\n",
    "model = build_model()\n",
    "model.summary()"
   ]
  },
  {
   "cell_type": "code",
   "execution_count": 13,
   "metadata": {},
   "outputs": [
    {
     "name": "stdout",
     "output_type": "stream",
     "text": [
      "WARNING:tensorflow:From /usr/local/lib/python3.6/dist-packages/tensorflow/python/ops/math_ops.py:3066: to_int32 (from tensorflow.python.ops.math_ops) is deprecated and will be removed in a future version.\n",
      "Instructions for updating:\n",
      "Use tf.cast instead.\n",
      " \n",
      ". . . . . . . . . . . . . . . . . . . . . . . . . . . . . . . . . . . . . . . . . . . "
     ]
    },
    {
     "data": {
      "image/png": "[encoded data removed]",
      "text/plain": [
       "<Figure size 432x288 with 1 Axes>"
      ]
     },
     "metadata": {
      "needs_background": "light"
     },
     "output_type": "display_data"
    }
   ],
   "source": [
    "class PrintDot(keras.callbacks.Callback):\n",
    "    def on_epoch_end(self, epoch, logs):\n",
    "        if epoch % 100 == 0: print(' ')\n",
    "        print('.', end = ' ')\n",
    "\n",
    "early_stop = keras.callbacks.EarlyStopping(monitor = 'val_loss', patience = 10)\n",
    "EPOCHS = 200\n",
    "\n",
    "history = model.fit(Train_MV_block, Train_WAV_block, batch_size = 128, epochs = EPOCHS, validation_data = (Valid_MV_block, Valid_WAV_block), verbose = 0, callbacks = [early_stop, PrintDot()])\n",
    "plot_history(history)"
   ]
  },
  {
   "cell_type": "code",
   "execution_count": 16,
   "metadata": {},
   "outputs": [],
   "source": [
    "test_predictions = model.predict(Test_MV_block)"
   ]
  },
  {
   "cell_type": "code",
   "execution_count": 17,
   "metadata": {},
   "outputs": [
    {
     "name": "stdout",
     "output_type": "stream",
     "text": [
      "6.473726159017524\n"
     ]
    }
   ],
   "source": [
    "mgc_head = test_predictions[:, 0:mgc_dim]\n",
    "mgc_ref = Test_WAV_block[:, 0:mgc_dim]\n",
    "from nnmnkwii.metrics import melcd\n",
    "\n",
    "MCD = melcd(mgc_head[:,1:mgc_dim], mgc_ref[:,1:mgc_dim], lengths=None)\n",
    "print(MCD)"
   ]
  },
  {
   "cell_type": "code",
   "execution_count": null,
   "metadata": {},
   "outputs": [],
   "source": []
  }
 ],
 "metadata": {
  "kernelspec": {
   "display_name": "Python 3",
   "language": "python",
   "name": "python3"
  },
  "language_info": {
   "codemirror_mode": {
    "name": "ipython",
    "version": 3
   },
   "file_extension": ".py",
   "mimetype": "text/x-python",
   "name": "python",
   "nbconvert_exporter": "python",
   "pygments_lexer": "ipython3",
   "version": "3.6.8"
  }
 },
 "nbformat": 4,
 "nbformat_minor": 2
}
