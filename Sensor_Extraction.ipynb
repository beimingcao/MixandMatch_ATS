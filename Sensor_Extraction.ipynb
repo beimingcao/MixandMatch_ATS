{
 "cells": [
  {
   "cell_type": "code",
   "execution_count": 25,
   "metadata": {},
   "outputs": [],
   "source": [
    "import os\n",
    "import glob\n",
    "import re\n",
    "from pandas import DataFrame\n",
    "import numpy as np"
   ]
  },
  {
   "cell_type": "code",
   "execution_count": 26,
   "metadata": {},
   "outputs": [],
   "source": [
    "def atoi(text):\n",
    "    \n",
    "    return int(text) if text.isdigit() else text\n",
    "\n",
    "def natural_keys(text):\n",
    "\n",
    "    return [ atoi(c) for c in re.split(r'(\\d+)', text) ]"
   ]
  },
  {
   "cell_type": "code",
   "execution_count": 129,
   "metadata": {},
   "outputs": [
    {
     "name": "stdout",
     "output_type": "stream",
     "text": [
      "/home/beiming/Projects/SI_ATS/Database/RAW_DATA/EMA_MAE/Extracted_EMA/ENM/39ENM\n"
     ]
    }
   ],
   "source": [
    "EMA_data_path = '/home/beiming/Projects/SI_ATS/Database/RAW_DATA/EMA_MAE'\n",
    "group_name = 'ENM'\n",
    "speaker_id  = '39ENM'\n",
    "ext_name = '.MV'\n",
    "\n",
    "Out_path = os.path.join(EMA_data_path, 'Extracted_EMA', group_name)\n",
    "Output_folder = os.path.join(Out_path, speaker_id)\n",
    "\n",
    "print(Output_folder)"
   ]
  },
  {
   "cell_type": "code",
   "execution_count": 130,
   "metadata": {},
   "outputs": [],
   "source": [
    "group_path = os.path.join(EMA_data_path, group_name)\n",
    "speaker_path = os.path.join(group_path, speaker_id)\n",
    "speaker_data_path = os.path.join(speaker_path, 'EMA Data')"
   ]
  },
  {
   "cell_type": "code",
   "execution_count": 131,
   "metadata": {},
   "outputs": [],
   "source": [
    "EMA_path = os.path.join(speaker_data_path, '*' + '.tsv')\n",
    "EMA_path_list = glob.glob(EMA_path)\n",
    "EMA_path_list.sort()"
   ]
  },
  {
   "cell_type": "code",
   "execution_count": 132,
   "metadata": {},
   "outputs": [
    {
     "name": "stderr",
     "output_type": "stream",
     "text": [
      "/usr/local/lib/python3.6/dist-packages/ipykernel_launcher.py:13: FutureWarning: from_csv is deprecated. Please use read_csv(...) instead. Note that some of the default arguments are different, so please refer to the documentation for from_csv when changing your function calls\n",
      "  del sys.path[0]\n"
     ]
    }
   ],
   "source": [
    "file_name_list = {}\n",
    "\n",
    "for i in range(len(EMA_path_list)):\n",
    "    \n",
    "    tsv_name = os.path.basename(EMA_path_list[i])\n",
    "    file_name_list[i] = tsv_name[0:-4] + ext_name \n",
    "    \n",
    "    if not os.path.exists(Output_folder):\n",
    "      os.makedirs(Output_folder)\n",
    "    \n",
    "    Output_directory = os.path.join(Output_folder, file_name_list[i])\n",
    "        \n",
    "    csv_loaded = DataFrame.from_csv(EMA_path_list[i], sep=\"\\t\")\n",
    "    EMA = csv_loaded.values    \n",
    "\n",
    "    Sensor2 = EMA[:,13:16] # TD\n",
    "    Sensor3 = EMA[:,22:25] # TL\n",
    "    Sensor4 = EMA[:,31:34] # TB\n",
    "    Sensor5 = EMA[:,40:43] # UL\n",
    "    Sensor6 = EMA[:,49:52] # LL\n",
    "    Sensor7 = EMA[:,58:61] # LC\n",
    "    Sensor8 = EMA[:,67:70] # MI\n",
    "\n",
    "    Extracted_data = np.concatenate([Sensor2, Sensor3, Sensor4, Sensor5, Sensor6, Sensor7, Sensor8], axis = 1)\n",
    "    np.savetxt(Output_directory, Extracted_data, fmt = \"%10.4f\")\n"
   ]
  },
  {
   "cell_type": "code",
   "execution_count": null,
   "metadata": {},
   "outputs": [],
   "source": []
  },
  {
   "cell_type": "code",
   "execution_count": null,
   "metadata": {},
   "outputs": [],
   "source": []
  }
 ],
 "metadata": {
  "kernelspec": {
   "display_name": "Python 3",
   "language": "python",
   "name": "python3"
  },
  "language_info": {
   "codemirror_mode": {
    "name": "ipython",
    "version": 3
   },
   "file_extension": ".py",
   "mimetype": "text/x-python",
   "name": "python",
   "nbconvert_exporter": "python",
   "pygments_lexer": "ipython3",
   "version": "3.6.8"
  }
 },
 "nbformat": 4,
 "nbformat_minor": 2
}
