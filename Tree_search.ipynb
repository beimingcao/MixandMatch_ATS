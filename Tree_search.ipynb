{
 "cells": [
  {
   "cell_type": "code",
   "execution_count": 13,
   "metadata": {},
   "outputs": [],
   "source": [
    "import numpy as np"
   ]
  },
  {
   "cell_type": "code",
   "execution_count": 17,
   "metadata": {},
   "outputs": [],
   "source": [
    "alpha_in = np.array([0.333, 0.333, 0.333])"
   ]
  },
  {
   "cell_type": "code",
   "execution_count": 18,
   "metadata": {},
   "outputs": [],
   "source": [
    "node_id = [0,1,2]\n",
    "\n",
    "reduction = 0.5"
   ]
  },
  {
   "cell_type": "code",
   "execution_count": 19,
   "metadata": {},
   "outputs": [
    {
     "name": "stdout",
     "output_type": "stream",
     "text": [
      "[0.1665, 0.333, 0.333]\n",
      "[0.333, 0.1665, 0.333]\n",
      "[0.333, 0.333, 0.1665]\n",
      "[0.2 0.4 0.4]\n"
     ]
    }
   ],
   "source": [
    "a_1 = [alpha_init[0]*reduction, alpha_init[1], alpha_init[2]]\n",
    "a_2 = [alpha_init[0], alpha_init[1]*reduction, alpha_init[2]]\n",
    "a_3 = [alpha_init[0], alpha_init[1], alpha_init[2]*reduction]\n",
    "print(a_1)\n",
    "print(a_2)\n",
    "print(a_3)\n",
    "print(a_1/sum(a_1))"
   ]
  },
  {
   "cell_type": "code",
   "execution_count": 20,
   "metadata": {},
   "outputs": [],
   "source": [
    "def node_split(alpha_init, reduction):\n",
    "    \n",
    "    a_1 = [alpha_init[0]*reduction, alpha_init[1], alpha_init[2]]\n",
    "    a_2 = [alpha_init[0], alpha_init[1]*reduction, alpha_init[2]]\n",
    "    a_3 = [alpha_init[0], alpha_init[1], alpha_init[2]*reduction]\n",
    "    \n",
    "    alpha_1 = a_1/sum(a_1)\n",
    "    alpha_2 = a_2/sum(a_1)\n",
    "    alpha_3 = a_3/sum(a_1)\n",
    "    \n",
    "    return alpha_1, alpha_2, alpha_3"
   ]
  },
  {
   "cell_type": "code",
   "execution_count": 21,
   "metadata": {},
   "outputs": [
    {
     "name": "stdout",
     "output_type": "stream",
     "text": [
      "[0.2 0.4 0.4]\n",
      "[0.4 0.2 0.4]\n",
      "[0.4 0.4 0.2]\n"
     ]
    }
   ],
   "source": [
    "alpha_1, alpha_2, alpha_3 = node_split(alpha_init, reduction)\n",
    "print(alpha_1)\n",
    "print(alpha_2)\n",
    "print(alpha_3)"
   ]
  },
  {
   "cell_type": "code",
   "execution_count": null,
   "metadata": {},
   "outputs": [],
   "source": [
    "Train_MV_shuffle = {}\n",
    "Train_WAV_shuffle = {}\n",
    "\n",
    "\n",
    "keys = np.arange(len(Train_MV))\n",
    "np.random.shuffle(keys)\n",
    "\n",
    "i = 0\n",
    "\n",
    "for key in keys:\n",
    "\n",
    "    Train_MV_shuffle[i] = Train_MV[key] \n",
    "    Train_WAV_shuffle[i] = Train_WAV[key]\n",
    "    \n",
    "    i = i + 1"
   ]
  },
  {
   "cell_type": "code",
   "execution_count": 22,
   "metadata": {},
   "outputs": [],
   "source": [
    "def shuffle_list(input_list):\n",
    "    \n",
    "    shuffled_list = {}\n",
    "    \n",
    "    keys = np.arange(len(input_list))\n",
    "    np.random.shuffle(keys)    \n",
    "    \n",
    "    i = 0\n",
    "\n",
    "    for key in keys:\n",
    "\n",
    "        shuffled_list[i] = input_list[key] \n",
    "\n",
    "        i = i + 1\n",
    "    return shuffled_list"
   ]
  },
  {
   "cell_type": "code",
   "execution_count": null,
   "metadata": {},
   "outputs": [],
   "source": [
    "\n",
    "len_1 = np.zeros([len(Train_MV_1),1], dtype=int)\n",
    "len_2 = np.zeros([len(Train_MV_2),1], dtype=int)\n",
    "len_3 = np.zeros([len(Train_MV_3),1], dtype=int)\n",
    "\n",
    "for i in range(len(Train_MV_1)):\n",
    "    \n",
    "    len_1[i] = Train_MV_1[i].shape[0]\n",
    "\n",
    "#print(Train_MV_1[1].shape[0])"
   ]
  }
 ],
 "metadata": {
  "kernelspec": {
   "display_name": "Python 3",
   "language": "python",
   "name": "python3"
  },
  "language_info": {
   "codemirror_mode": {
    "name": "ipython",
    "version": 3
   },
   "file_extension": ".py",
   "mimetype": "text/x-python",
   "name": "python",
   "nbconvert_exporter": "python",
   "pygments_lexer": "ipython3",
   "version": "3.6.8"
  }
 },
 "nbformat": 4,
 "nbformat_minor": 2
}
