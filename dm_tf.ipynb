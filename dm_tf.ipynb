{
 "cells": [
  {
   "cell_type": "code",
   "execution_count": 12,
   "metadata": {},
   "outputs": [],
   "source": [
    "import os\n",
    "import glob\n",
    "import numpy as np\n",
    "from scipy import ndimage\n",
    "from IPython.display import Audio\n",
    "from scipy.io import wavfile\n",
    "import matplotlib.pyplot as plt\n",
    "import librosa\n",
    "from nnmnkwii.preprocessing.f0 import interp1d\n",
    "from nnmnkwii.util import apply_delta_windows\n",
    "import pandas as pd"
   ]
  },
  {
   "cell_type": "code",
   "execution_count": 2,
   "metadata": {},
   "outputs": [
    {
     "name": "stdout",
     "output_type": "stream",
     "text": [
      "['09ENF', '40ENF', '37ENF', '36ENF', '05ENF', '17ENF', '07ENF', '18ENF', '21ENF', '28ENF']\n"
     ]
    }
   ],
   "source": [
    "data_folder = '/home/beiming/Desktop/Parsed_data'\n",
    "group_name = 'ENF' # ENF or ENM\n",
    "group_folder = os.path.join(data_folder, group_name)\n",
    "subject_list = os.listdir(group_folder) \n",
    "print(subject_list)"
   ]
  },
  {
   "cell_type": "code",
   "execution_count": 3,
   "metadata": {},
   "outputs": [],
   "source": [
    "#Choose subject ID based on the print above\n",
    "sub_name = '40ENF'\n",
    "\n",
    "data_sub_folder = os.path.join(group_folder, sub_name)\n",
    "\n",
    "WAV_path_list = os.path.join(data_sub_folder, '*' + '.wav')\n",
    "WAV_path_list = glob.glob(WAV_path_list)\n",
    "WAV_path_list.sort()\n",
    "\n",
    "EMA_path_list = os.path.join(data_sub_folder, '*' + '.ema')\n",
    "EMA_path_list = glob.glob(EMA_path_list)\n",
    "EMA_path_list.sort()"
   ]
  },
  {
   "cell_type": "code",
   "execution_count": 4,
   "metadata": {},
   "outputs": [],
   "source": [
    "import pyworld\n",
    "import pysptk\n",
    "import nnmnkwii"
   ]
  },
  {
   "cell_type": "code",
   "execution_count": 5,
   "metadata": {},
   "outputs": [],
   "source": [
    "mgc_dim = 40\n",
    "lf0_dim = 1\n",
    "vuv_dim = 1\n",
    "bap_dim = 1\n",
    "\n",
    "fs = 16000\n",
    "\n",
    "frame_period = 5\n",
    "hop_length = 80\n",
    "fftlen = 1024\n",
    "alpha = 0.41\n",
    "\n",
    "order = 39\n",
    "frame_period = 5\n",
    "windows = [\n",
    "    (0, 0, np.array([1.0])),\n",
    "    (1, 1, np.array([-0.5, 0.0, 0.5])),\n",
    "    (1, 1, np.array([1.0, -2.0, 1.0])),\n",
    "]\n",
    "\n",
    "file_num = len(WAV_path_list)\n",
    "\n",
    "train_index = range(file_num - 20)\n",
    "valid_index = range(file_num - 20, file_num - 10)\n",
    "test_index = range(file_num - 10, file_num)"
   ]
  },
  {
   "cell_type": "code",
   "execution_count": 6,
   "metadata": {},
   "outputs": [],
   "source": [
    "def collect_features(wav_path, fs, frame_period, order):\n",
    "  \n",
    "    x, sr = librosa.load(wav_path, sr = fs)\n",
    "    x = x.astype(np.float64)\n",
    "    f0, timeaxis = pyworld.dio(x, fs, frame_period=frame_period)\n",
    "    f0 = pyworld.stonemask(x, f0, timeaxis, fs)\n",
    "    spectrogram = pyworld.cheaptrick(x, f0, timeaxis, fs)\n",
    "    aperiodicity = pyworld.d4c(x, f0, timeaxis, fs)\n",
    "\n",
    "    bap = pyworld.code_aperiodicity(aperiodicity, fs)\n",
    "    mgc = pysptk.sp2mc(spectrogram, order=order,\n",
    "                       alpha=pysptk.util.mcepalpha(fs))\n",
    "    f0 = f0[:, None]\n",
    "    lf0 = f0.copy()\n",
    "    nonzero_indices = np.nonzero(f0)\n",
    "    lf0[nonzero_indices] = np.log(f0[nonzero_indices])\n",
    "    vuv = (lf0 != 0).astype(np.float32)\n",
    "    lf0 = interp1d(lf0, kind=\"slinear\")\n",
    "    \n",
    "    lf0 = f0.copy()\n",
    "    nonzero_indices = np.nonzero(f0)\n",
    "    lf0[nonzero_indices] = np.log(f0[nonzero_indices])\n",
    "    vuv = (lf0 != 0).astype(np.float32)\n",
    "    lf0 = interp1d(lf0, kind=\"slinear\")\n",
    "\n",
    "    lf0 = lf0.reshape(lf0.shape[0],1)\n",
    "    vuv = vuv.reshape(vuv.shape[0],1)\n",
    "\n",
    "    mgc_delta = apply_delta_windows(mgc, windows)\n",
    "    lf0_delta = apply_delta_windows(lf0, windows)\n",
    "    bap_delta = apply_delta_windows(bap, windows)\n",
    "    \n",
    "    features = np.hstack((mgc, lf0, vuv, bap))\n",
    "\n",
    "    delta_features = np.hstack((mgc_delta, lf0_delta, vuv, bap_delta))\n",
    "    \n",
    "    return features, delta_features"
   ]
  },
  {
   "cell_type": "code",
   "execution_count": 7,
   "metadata": {},
   "outputs": [
    {
     "name": "stderr",
     "output_type": "stream",
     "text": [
      "/home/beiming/.local/lib/python3.6/site-packages/scipy/ndimage/interpolation.py:611: UserWarning: From scipy 0.13.0, the output shape of zoom() is calculated with round() instead of int() - for these inputs the size of the returned array has changed.\n",
      "  \"the returned array has changed.\", UserWarning)\n"
     ]
    }
   ],
   "source": [
    "Valid_MV = {}\n",
    "Valid_WAV = {}\n",
    "\n",
    "index = 0\n",
    "\n",
    "for i in valid_index:\n",
    "  \n",
    "  MV = np.loadtxt(EMA_path_list[i])\n",
    "  \n",
    "  WAV, WAV_delta = collect_features(WAV_path_list[i], fs,  frame_period, order)\n",
    "\n",
    "  scale_ratio = WAV.shape[0] / MV.shape[0]\n",
    "\n",
    "\n",
    "  MV_align = np.empty([WAV.shape[0], MV.shape[1]])\n",
    "\n",
    "  for j in range(MV.shape[1]):\n",
    "\n",
    "    MV_align[:,j] = ndimage.zoom(MV[:,j], scale_ratio)\n",
    "    \n",
    "  MV_delta = apply_delta_windows(MV_align, windows)\n",
    "  \n",
    "  \n",
    "  Valid_MV[index] = MV_delta\n",
    "  Valid_WAV[index] = WAV_delta\n",
    "  \n",
    "  index = index + 1  "
   ]
  },
  {
   "cell_type": "code",
   "execution_count": 8,
   "metadata": {},
   "outputs": [],
   "source": [
    "Test_MV = {}\n",
    "Test_WAV = {}\n",
    "\n",
    "index = 0\n",
    "\n",
    "for i in test_index:\n",
    "  \n",
    "  MV = np.loadtxt(EMA_path_list[i])\n",
    "  \n",
    "  WAV, WAV_delta = collect_features(WAV_path_list[i], fs,  frame_period, order)\n",
    "\n",
    "  scale_ratio = WAV.shape[0] / MV.shape[0]\n",
    "\n",
    "\n",
    "  MV_align = np.empty([WAV.shape[0], MV.shape[1]])\n",
    "\n",
    "  for j in range(MV.shape[1]):\n",
    "\n",
    "    MV_align[:,j] = ndimage.zoom(MV[:,j], scale_ratio)\n",
    "    \n",
    "  MV_delta = apply_delta_windows(MV_align, windows)\n",
    "  \n",
    "  \n",
    "  Test_MV[index] = MV_delta\n",
    "  Test_WAV[index] = WAV_delta\n",
    "  \n",
    "  index = index + 1  "
   ]
  },
  {
   "cell_type": "code",
   "execution_count": 9,
   "metadata": {},
   "outputs": [],
   "source": [
    "Train_MV = {}\n",
    "Train_WAV = {}\n",
    "\n",
    "index = 0\n",
    "\n",
    "for i in train_index:\n",
    "  \n",
    "  MV = np.loadtxt(EMA_path_list[i])\n",
    "  \n",
    "  WAV, WAV_delta = collect_features(WAV_path_list[i], fs,  frame_period, order)\n",
    "\n",
    "  scale_ratio = WAV.shape[0] / MV.shape[0]\n",
    "\n",
    "\n",
    "  MV_align = np.empty([WAV.shape[0], MV.shape[1]])\n",
    "\n",
    "  for j in range(MV.shape[1]):\n",
    "\n",
    "    MV_align[:,j] = ndimage.zoom(MV[:,j], scale_ratio)\n",
    "    \n",
    "  MV_delta = apply_delta_windows(MV_align, windows)\n",
    "  \n",
    "  \n",
    "  Train_MV[index] = MV_delta\n",
    "  Train_WAV[index] = WAV_delta\n",
    "  \n",
    "  index = index + 1 "
   ]
  },
  {
   "cell_type": "code",
   "execution_count": 102,
   "metadata": {},
   "outputs": [],
   "source": [
    "Train_MV_block = np.concatenate([Train_MV[x] for x in Train_MV], 0).astype(np.float32)\n",
    "Train_WAV_block = np.concatenate([Train_WAV[x] for x in Train_WAV], 0)\n",
    "\n",
    "Valid_MV_block = np.concatenate([Valid_MV[x] for x in Valid_MV], 0).astype(np.float32)\n",
    "Valid_WAV_block = np.concatenate([Valid_WAV[x] for x in Valid_WAV], 0)\n",
    "\n",
    "Test_MV_block = np.concatenate([Test_MV[x] for x in Test_MV], 0).astype(np.float32)\n",
    "Test_WAV_block = np.concatenate([Test_WAV[x] for x in Test_WAV], 0)"
   ]
  },
  {
   "cell_type": "code",
   "execution_count": 107,
   "metadata": {},
   "outputs": [
    {
     "name": "stdout",
     "output_type": "stream",
     "text": [
      "[ -8.45317617  -1.43869753  -1.40133177  -0.91553367  -1.36119951\n",
      "  -1.2342245   -0.98324501  -0.84227182  -0.9827366   -0.61612525\n",
      "  -0.70049606  -0.32463608  -0.72532257  -0.3030624   -0.73848159\n",
      "  -0.57451203  -0.5706244   -0.25942811  -0.45026163  -0.31783513\n",
      "  -0.36467558  -0.3512658   -0.32229466  -0.28083412  -0.34260307\n",
      "  -0.22159386  -0.41367663  -0.14126591  -0.39998019  -0.11507006\n",
      "  -0.35435895  -0.105603    -0.32258468  -0.13701079  -0.28782419\n",
      "  -0.11760344  -0.27242826  -0.17335627  -0.26084472  -0.13894993\n",
      "  -4.02464621  -0.9961711   -0.88359734  -0.66122401  -0.61288579\n",
      "  -0.47679041  -0.42883319  -0.42827119  -0.3386081   -0.3637134\n",
      "  -0.32109789  -0.28766729  -0.26863266  -0.27161741  -0.21104393\n",
      "  -0.25045946  -0.24151895  -0.21077762  -0.18880728  -0.26090646\n",
      "  -0.18271981  -0.17719293  -0.15841207  -0.15502419  -0.15278452\n",
      "  -0.14426764  -0.1223256   -0.1328288   -0.16102116  -0.16878574\n",
      "  -0.125553    -0.12097724  -0.1347071   -0.12352239  -0.11737935\n",
      "  -0.14721979  -0.11282405  -0.11492131  -0.10819504  -0.10180776\n",
      "  -5.4382901   -2.41476799  -2.46625164  -1.61304356  -1.56538232\n",
      "  -1.45032629  -1.39400396  -1.33363893  -1.20557515  -1.25802352\n",
      "  -1.25886773  -0.90197517  -0.84612037  -0.77737091  -0.75109512\n",
      "  -0.74714499  -0.69839005  -0.70066096  -0.73168036  -0.51716801\n",
      "  -0.50957025  -0.68049939  -0.42493537  -0.49491015  -0.43709217\n",
      "  -0.47752907  -0.43083556  -0.4001362   -0.41470778  -0.48430855\n",
      "  -0.34184801  -0.34204447  -0.35847203  -0.36276968  -0.37517885\n",
      "  -0.37562224  -0.3208673   -0.29724021  -0.36173796  -0.27995774\n",
      "   4.20019925  -2.68906117  -5.58529898   0.         -25.85005434\n",
      "  -8.11672177 -20.06422123]\n"
     ]
    }
   ],
   "source": [
    "MV_min =  Valid_WAV_block.min(axis = 0)\n",
    "\n",
    "print(MV_min)"
   ]
  },
  {
   "cell_type": "code",
   "execution_count": 64,
   "metadata": {},
   "outputs": [],
   "source": [
    "mean_in = Train_MV_block.mean(axis = 0)\n",
    "std_in = Train_MV_block.std(axis = 0)\n",
    "Train_MV_block = (Train_MV_block - mean_in) / std_in \n",
    "Valid_MV_block  = (Valid_MV_block - mean_in) / std_in\n",
    "Test_MV_block = (Test_MV_block - mean_in) / std_in"
   ]
  },
  {
   "cell_type": "code",
   "execution_count": 65,
   "metadata": {},
   "outputs": [
    {
     "name": "stdout",
     "output_type": "stream",
     "text": [
      "Found GPU at: /device:GPU:0\n"
     ]
    }
   ],
   "source": [
    "import tensorflow as tf\n",
    "from tensorflow import keras\n",
    "from tensorflow.keras import layers\n",
    "\n",
    "device_name = tf.test.gpu_device_name()\n",
    "if device_name != '/device:GPU:0':\n",
    "  raise SystemError('GPU device not found')\n",
    "print('Found GPU at: {}'.format(device_name))"
   ]
  },
  {
   "cell_type": "code",
   "execution_count": 96,
   "metadata": {},
   "outputs": [
    {
     "name": "stdout",
     "output_type": "stream",
     "text": [
      "_________________________________________________________________\n",
      "Layer (type)                 Output Shape              Param #   \n",
      "=================================================================\n",
      "dense_90 (Dense)             (None, 512)               32768     \n",
      "_________________________________________________________________\n",
      "dense_91 (Dense)             (None, 512)               262656    \n",
      "_________________________________________________________________\n",
      "dense_92 (Dense)             (None, 512)               262656    \n",
      "_________________________________________________________________\n",
      "dense_93 (Dense)             (None, 512)               262656    \n",
      "_________________________________________________________________\n",
      "dense_94 (Dense)             (None, 512)               262656    \n",
      "_________________________________________________________________\n",
      "dense_95 (Dense)             (None, 127)               65151     \n",
      "=================================================================\n",
      "Total params: 1,148,543\n",
      "Trainable params: 1,148,543\n",
      "Non-trainable params: 0\n",
      "_________________________________________________________________\n"
     ]
    }
   ],
   "source": [
    "def build_model():\n",
    "    \n",
    "    model = keras.Sequential([\n",
    "        layers.Dense(512, activation = tf.nn.tanh, input_shape = (Train_MV_block.shape[1],), use_bias = True),\n",
    "        layers.Dense(512, activation = tf.nn.relu, use_bias = True),\n",
    "        layers.Dense(512, activation = tf.nn.relu, use_bias = True),\n",
    "        layers.Dense(512, activation = tf.nn.relu, use_bias = True),\n",
    "        layers.Dense(512, activation = tf.nn.relu, use_bias = True),\n",
    "        layers.Dense(Train_WAV_block.shape[1])\n",
    "    ])\n",
    "    \n",
    "    optimizer = tf.keras.optimizers.Adam(0.001)\n",
    "    model.compile(loss = 'mse', optimizer = optimizer, metrics = ['mae', 'mse'])\n",
    "    \n",
    "    return model\n",
    "\n",
    "model = build_model()\n",
    "model.summary()"
   ]
  },
  {
   "cell_type": "code",
   "execution_count": 97,
   "metadata": {},
   "outputs": [
    {
     "name": "stdout",
     "output_type": "stream",
     "text": [
      " \n",
      ". . . . . . . . . . "
     ]
    }
   ],
   "source": [
    "class PrintDot(keras.callbacks.Callback):\n",
    "    def on_epoch_end(self, epoch, logs):\n",
    "        if epoch % 100 == 0: print(' ')\n",
    "        print('.', end = ' ')\n",
    "\n",
    "EPOCHS = 10\n",
    "\n",
    "history = model.fit(Train_MV_block, Train_WAV_block, batch_size = 1024, epochs = EPOCHS, validation_data = (Valid_MV_block, Valid_WAV_block), verbose = 0, callbacks = [PrintDot()])"
   ]
  },
  {
   "cell_type": "code",
   "execution_count": 98,
   "metadata": {},
   "outputs": [
    {
     "data": {
      "image/png": "[encoded data removed]",
      "text/plain": [
       "<Figure size 432x288 with 1 Axes>"
      ]
     },
     "metadata": {
      "needs_background": "light"
     },
     "output_type": "display_data"
    }
   ],
   "source": [
    "import matplotlib.pyplot as plt\n",
    "\n",
    "def plot_history(history):\n",
    "    plt.figure()\n",
    "    plt.xlabel('Epoch')\n",
    "    plt.ylabel('Mean Abs Error')\n",
    "    plt.plot(history.epoch, np.array(history.history['mean_absolute_error']), label = 'Train Loss')\n",
    "    plt.plot(history.epoch, np.array(history.history['val_mean_absolute_error']), label = 'Valid Loss')\n",
    "    plt.legend()\n",
    "    \n",
    "plot_history(history)"
   ]
  },
  {
   "cell_type": "code",
   "execution_count": 99,
   "metadata": {},
   "outputs": [
    {
     "name": "stdout",
     "output_type": "stream",
     "text": [
      "[[-1.4287232e+00  1.1326190e+00  2.2360833e-01 ... -1.3972093e+00\n",
      "   1.9563080e-03 -6.6067209e-04]\n",
      " [-1.4287232e+00  1.1326190e+00  2.2360833e-01 ... -1.3972093e+00\n",
      "   1.9563080e-03 -6.6067209e-04]\n",
      " [-1.4287232e+00  1.1326190e+00  2.2360833e-01 ... -1.3972093e+00\n",
      "   1.9563080e-03 -6.6067209e-04]\n",
      " ...\n",
      " [-1.4287232e+00  1.1326190e+00  2.2360833e-01 ... -1.3972093e+00\n",
      "   1.9563080e-03 -6.6067209e-04]\n",
      " [-1.4287232e+00  1.1326190e+00  2.2360833e-01 ... -1.3972093e+00\n",
      "   1.9563080e-03 -6.6067209e-04]\n",
      " [-1.4287232e+00  1.1326190e+00  2.2360833e-01 ... -1.3972093e+00\n",
      "   1.9563080e-03 -6.6067209e-04]]\n"
     ]
    }
   ],
   "source": [
    "test_prediction = model.predict(Test_MV_block)\n",
    "print(test_prediction)"
   ]
  },
  {
   "cell_type": "code",
   "execution_count": 100,
   "metadata": {},
   "outputs": [
    {
     "name": "stdout",
     "output_type": "stream",
     "text": [
      "[[ 0.04908007  0.03210932  0.05842675 ... -0.02810086 -0.00077937\n",
      "   0.00801255]\n",
      " [ 0.00362415  0.02458131 -0.04194108 ...  0.00667746 -0.01029465\n",
      "  -0.0262073 ]\n",
      " [ 0.02652993  0.03185794 -0.04082315 ... -0.04728645  0.04599001\n",
      "  -0.03148768]\n",
      " ...\n",
      " [-0.01468094  0.03710605  0.06202573 ... -0.07009165 -0.01769422\n",
      "   0.06297977]\n",
      " [ 0.04328498  0.03461796  0.07342241 ... -0.01635357  0.05494667\n",
      "   0.05217817]\n",
      " [-0.00209663 -0.05780834 -0.02342242 ...  0.0196707  -0.0348407\n",
      "  -0.014496  ]] [0. 0. 0. 0. 0. 0. 0. 0. 0. 0. 0. 0. 0. 0. 0. 0. 0. 0. 0. 0. 0. 0. 0. 0.\n",
      " 0. 0. 0. 0. 0. 0. 0. 0. 0. 0. 0. 0. 0. 0. 0. 0. 0. 0. 0. 0. 0. 0. 0. 0.\n",
      " 0. 0. 0. 0. 0. 0. 0. 0. 0. 0. 0. 0. 0. 0. 0. 0. 0. 0. 0. 0. 0. 0. 0. 0.\n",
      " 0. 0. 0. 0. 0. 0. 0. 0. 0. 0. 0. 0. 0. 0. 0. 0. 0. 0. 0. 0. 0. 0. 0. 0.\n",
      " 0. 0. 0. 0. 0. 0. 0. 0. 0. 0. 0. 0. 0. 0. 0. 0. 0. 0. 0. 0. 0. 0. 0. 0.\n",
      " 0. 0. 0. 0. 0. 0. 0. 0. 0. 0. 0. 0. 0. 0. 0. 0. 0. 0. 0. 0. 0. 0. 0. 0.\n",
      " 0. 0. 0. 0. 0. 0. 0. 0. 0. 0. 0. 0. 0. 0. 0. 0. 0. 0. 0. 0. 0. 0. 0. 0.\n",
      " 0. 0. 0. 0. 0. 0. 0. 0. 0. 0. 0. 0. 0. 0. 0. 0. 0. 0. 0. 0. 0. 0. 0. 0.\n",
      " 0. 0. 0. 0. 0. 0. 0. 0. 0. 0. 0. 0. 0. 0. 0. 0. 0. 0. 0. 0. 0. 0. 0. 0.\n",
      " 0. 0. 0. 0. 0. 0. 0. 0. 0. 0. 0. 0. 0. 0. 0. 0. 0. 0. 0. 0. 0. 0. 0. 0.\n",
      " 0. 0. 0. 0. 0. 0. 0. 0. 0. 0. 0. 0. 0. 0. 0. 0. 0. 0. 0. 0. 0. 0. 0. 0.\n",
      " 0. 0. 0. 0. 0. 0. 0. 0. 0. 0. 0. 0. 0. 0. 0. 0. 0. 0. 0. 0. 0. 0. 0. 0.\n",
      " 0. 0. 0. 0. 0. 0. 0. 0. 0. 0. 0. 0. 0. 0. 0. 0. 0. 0. 0. 0. 0. 0. 0. 0.\n",
      " 0. 0. 0. 0. 0. 0. 0. 0. 0. 0. 0. 0. 0. 0. 0. 0. 0. 0. 0. 0. 0. 0. 0. 0.\n",
      " 0. 0. 0. 0. 0. 0. 0. 0. 0. 0. 0. 0. 0. 0. 0. 0. 0. 0. 0. 0. 0. 0. 0. 0.\n",
      " 0. 0. 0. 0. 0. 0. 0. 0. 0. 0. 0. 0. 0. 0. 0. 0. 0. 0. 0. 0. 0. 0. 0. 0.\n",
      " 0. 0. 0. 0. 0. 0. 0. 0. 0. 0. 0. 0. 0. 0. 0. 0. 0. 0. 0. 0. 0. 0. 0. 0.\n",
      " 0. 0. 0. 0. 0. 0. 0. 0. 0. 0. 0. 0. 0. 0. 0. 0. 0. 0. 0. 0. 0. 0. 0. 0.\n",
      " 0. 0. 0. 0. 0. 0. 0. 0. 0. 0. 0. 0. 0. 0. 0. 0. 0. 0. 0. 0. 0. 0. 0. 0.\n",
      " 0. 0. 0. 0. 0. 0. 0. 0. 0. 0. 0. 0. 0. 0. 0. 0. 0. 0. 0. 0. 0. 0. 0. 0.\n",
      " 0. 0. 0. 0. 0. 0. 0. 0. 0. 0. 0. 0. 0. 0. 0. 0. 0. 0. 0. 0. 0. 0. 0. 0.\n",
      " 0. 0. 0. 0. 0. 0. 0. 0.]\n"
     ]
    }
   ],
   "source": [
    "weights, biases = model.layers[4].get_weights()\n",
    "print(weights, biases)"
   ]
  },
  {
   "cell_type": "code",
   "execution_count": 101,
   "metadata": {},
   "outputs": [
    {
     "name": "stdout",
     "output_type": "stream",
     "text": [
      "(512,)\n"
     ]
    }
   ],
   "source": [
    "print(biases.shape)"
   ]
  },
  {
   "cell_type": "code",
   "execution_count": null,
   "metadata": {},
   "outputs": [],
   "source": []
  }
 ],
 "metadata": {
  "kernelspec": {
   "display_name": "Python 3",
   "language": "python",
   "name": "python3"
  },
  "language_info": {
   "codemirror_mode": {
    "name": "ipython",
    "version": 3
   },
   "file_extension": ".py",
   "mimetype": "text/x-python",
   "name": "python",
   "nbconvert_exporter": "python",
   "pygments_lexer": "ipython3",
   "version": "3.6.8"
  }
 },
 "nbformat": 4,
 "nbformat_minor": 2
}
